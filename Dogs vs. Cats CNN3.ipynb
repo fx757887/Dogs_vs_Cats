{
 "cells": [
  {
   "cell_type": "markdown",
   "metadata": {},
   "source": [
    "# Dogs vs. Catsを畳み込みニューラルネットワークで解く"
   ]
  },
  {
   "cell_type": "markdown",
   "metadata": {},
   "source": [
    "## パッケージ群のインポート"
   ]
  },
  {
   "cell_type": "code",
   "execution_count": 93,
   "metadata": {},
   "outputs": [],
   "source": [
    "import tensorflow\n",
    "from tensorflow import keras\n",
    "%matplotlib inline\n",
    "import matplotlib.pyplot as plt"
   ]
  },
  {
   "cell_type": "code",
   "execution_count": 94,
   "metadata": {},
   "outputs": [
    {
     "name": "stdout",
     "output_type": "stream",
     "text": [
      "Collecting cv2\n"
     ]
    },
    {
     "name": "stderr",
     "output_type": "stream",
     "text": [
      "  ERROR: Could not find a version that satisfies the requirement cv2 (from versions: none)\n",
      "ERROR: No matching distribution found for cv2\n"
     ]
    }
   ],
   "source": [
    "!pip install cv2"
   ]
  },
  {
   "cell_type": "code",
   "execution_count": 95,
   "metadata": {
    "scrolled": true
   },
   "outputs": [],
   "source": [
    "import os, cv2, random\n",
    "import numpy as np\n",
    "import pandas as pd"
   ]
  },
  {
   "cell_type": "code",
   "execution_count": 96,
   "metadata": {},
   "outputs": [],
   "source": [
    "from matplotlib import ticker\n",
    "import seaborn as sns"
   ]
  },
  {
   "cell_type": "markdown",
   "metadata": {},
   "source": [
    "## トレーニング・テストデータの作成"
   ]
  },
  {
   "cell_type": "code",
   "execution_count": 97,
   "metadata": {},
   "outputs": [],
   "source": [
    "TRAIN_DIR = \"./Dogs_and_Cats/train/\"\n",
    "TEST_DIR = \"./Dogs_and_Cats/test/\""
   ]
  },
  {
   "cell_type": "code",
   "execution_count": 98,
   "metadata": {},
   "outputs": [],
   "source": [
    "ROWS = 64\n",
    "COLS = 64\n",
    "CHANNELS = 3"
   ]
  },
  {
   "cell_type": "code",
   "execution_count": 99,
   "metadata": {},
   "outputs": [],
   "source": [
    "train_images = [TRAIN_DIR+i for i in os.listdir(TRAIN_DIR)]"
   ]
  },
  {
   "cell_type": "code",
   "execution_count": 100,
   "metadata": {},
   "outputs": [
    {
     "data": {
      "text/plain": [
       "['./Dogs_and_Cats/train/cat.0.jpg',\n",
       " './Dogs_and_Cats/train/cat.1.jpg',\n",
       " './Dogs_and_Cats/train/cat.10.jpg',\n",
       " './Dogs_and_Cats/train/cat.100.jpg',\n",
       " './Dogs_and_Cats/train/cat.1000.jpg',\n",
       " './Dogs_and_Cats/train/cat.10000.jpg',\n",
       " './Dogs_and_Cats/train/cat.10001.jpg',\n",
       " './Dogs_and_Cats/train/cat.10002.jpg',\n",
       " './Dogs_and_Cats/train/cat.10003.jpg',\n",
       " './Dogs_and_Cats/train/cat.10004.jpg',\n",
       " './Dogs_and_Cats/train/cat.10005.jpg',\n",
       " './Dogs_and_Cats/train/cat.10006.jpg',\n",
       " './Dogs_and_Cats/train/cat.10007.jpg',\n",
       " './Dogs_and_Cats/train/cat.10008.jpg',\n",
       " './Dogs_and_Cats/train/cat.10009.jpg',\n",
       " './Dogs_and_Cats/train/cat.1001.jpg',\n",
       " './Dogs_and_Cats/train/cat.10010.jpg',\n",
       " './Dogs_and_Cats/train/cat.10011.jpg',\n",
       " './Dogs_and_Cats/train/cat.10012.jpg',\n",
       " './Dogs_and_Cats/train/cat.10013.jpg',\n",
       " './Dogs_and_Cats/train/cat.10014.jpg',\n",
       " './Dogs_and_Cats/train/cat.10015.jpg',\n",
       " './Dogs_and_Cats/train/cat.10016.jpg',\n",
       " './Dogs_and_Cats/train/cat.10017.jpg',\n",
       " './Dogs_and_Cats/train/cat.10018.jpg',\n",
       " './Dogs_and_Cats/train/cat.10019.jpg',\n",
       " './Dogs_and_Cats/train/cat.1002.jpg',\n",
       " './Dogs_and_Cats/train/cat.10020.jpg',\n",
       " './Dogs_and_Cats/train/cat.10021.jpg',\n",
       " './Dogs_and_Cats/train/cat.10022.jpg',\n",
       " './Dogs_and_Cats/train/cat.10023.jpg',\n",
       " './Dogs_and_Cats/train/cat.10024.jpg',\n",
       " './Dogs_and_Cats/train/cat.10025.jpg',\n",
       " './Dogs_and_Cats/train/cat.10026.jpg',\n",
       " './Dogs_and_Cats/train/cat.10027.jpg',\n",
       " './Dogs_and_Cats/train/cat.10028.jpg',\n",
       " './Dogs_and_Cats/train/cat.10029.jpg',\n",
       " './Dogs_and_Cats/train/cat.1003.jpg',\n",
       " './Dogs_and_Cats/train/cat.10030.jpg',\n",
       " './Dogs_and_Cats/train/cat.10031.jpg',\n",
       " './Dogs_and_Cats/train/cat.10032.jpg',\n",
       " './Dogs_and_Cats/train/cat.10033.jpg',\n",
       " './Dogs_and_Cats/train/cat.10034.jpg',\n",
       " './Dogs_and_Cats/train/cat.10035.jpg',\n",
       " './Dogs_and_Cats/train/cat.10036.jpg',\n",
       " './Dogs_and_Cats/train/cat.10037.jpg',\n",
       " './Dogs_and_Cats/train/cat.10038.jpg',\n",
       " './Dogs_and_Cats/train/cat.10039.jpg',\n",
       " './Dogs_and_Cats/train/cat.1004.jpg',\n",
       " './Dogs_and_Cats/train/cat.10040.jpg',\n",
       " './Dogs_and_Cats/train/cat.10041.jpg',\n",
       " './Dogs_and_Cats/train/cat.10042.jpg',\n",
       " './Dogs_and_Cats/train/cat.10043.jpg',\n",
       " './Dogs_and_Cats/train/cat.10044.jpg',\n",
       " './Dogs_and_Cats/train/cat.10045.jpg',\n",
       " './Dogs_and_Cats/train/cat.10046.jpg',\n",
       " './Dogs_and_Cats/train/cat.10047.jpg',\n",
       " './Dogs_and_Cats/train/cat.10048.jpg',\n",
       " './Dogs_and_Cats/train/cat.10049.jpg',\n",
       " './Dogs_and_Cats/train/cat.1005.jpg',\n",
       " './Dogs_and_Cats/train/cat.10050.jpg',\n",
       " './Dogs_and_Cats/train/cat.10051.jpg',\n",
       " './Dogs_and_Cats/train/cat.10052.jpg',\n",
       " './Dogs_and_Cats/train/cat.10053.jpg',\n",
       " './Dogs_and_Cats/train/cat.10054.jpg',\n",
       " './Dogs_and_Cats/train/cat.10055.jpg',\n",
       " './Dogs_and_Cats/train/cat.10056.jpg',\n",
       " './Dogs_and_Cats/train/cat.10057.jpg',\n",
       " './Dogs_and_Cats/train/cat.10058.jpg',\n",
       " './Dogs_and_Cats/train/cat.10059.jpg',\n",
       " './Dogs_and_Cats/train/cat.1006.jpg',\n",
       " './Dogs_and_Cats/train/cat.10060.jpg',\n",
       " './Dogs_and_Cats/train/cat.10061.jpg',\n",
       " './Dogs_and_Cats/train/cat.10062.jpg',\n",
       " './Dogs_and_Cats/train/cat.10063.jpg',\n",
       " './Dogs_and_Cats/train/cat.10064.jpg',\n",
       " './Dogs_and_Cats/train/cat.10065.jpg',\n",
       " './Dogs_and_Cats/train/cat.10066.jpg',\n",
       " './Dogs_and_Cats/train/cat.10067.jpg',\n",
       " './Dogs_and_Cats/train/cat.10068.jpg',\n",
       " './Dogs_and_Cats/train/cat.10069.jpg',\n",
       " './Dogs_and_Cats/train/cat.1007.jpg',\n",
       " './Dogs_and_Cats/train/cat.10070.jpg',\n",
       " './Dogs_and_Cats/train/cat.10071.jpg',\n",
       " './Dogs_and_Cats/train/cat.10072.jpg',\n",
       " './Dogs_and_Cats/train/cat.10073.jpg',\n",
       " './Dogs_and_Cats/train/cat.10074.jpg',\n",
       " './Dogs_and_Cats/train/cat.10075.jpg',\n",
       " './Dogs_and_Cats/train/cat.10076.jpg',\n",
       " './Dogs_and_Cats/train/cat.10077.jpg',\n",
       " './Dogs_and_Cats/train/cat.10078.jpg',\n",
       " './Dogs_and_Cats/train/cat.10079.jpg',\n",
       " './Dogs_and_Cats/train/cat.1008.jpg',\n",
       " './Dogs_and_Cats/train/cat.10080.jpg',\n",
       " './Dogs_and_Cats/train/cat.10081.jpg',\n",
       " './Dogs_and_Cats/train/cat.10082.jpg',\n",
       " './Dogs_and_Cats/train/cat.10083.jpg',\n",
       " './Dogs_and_Cats/train/cat.10084.jpg',\n",
       " './Dogs_and_Cats/train/cat.10085.jpg',\n",
       " './Dogs_and_Cats/train/cat.10086.jpg',\n",
       " './Dogs_and_Cats/train/cat.10087.jpg',\n",
       " './Dogs_and_Cats/train/cat.10088.jpg',\n",
       " './Dogs_and_Cats/train/cat.10089.jpg',\n",
       " './Dogs_and_Cats/train/cat.1009.jpg',\n",
       " './Dogs_and_Cats/train/cat.10090.jpg',\n",
       " './Dogs_and_Cats/train/cat.10091.jpg',\n",
       " './Dogs_and_Cats/train/cat.10092.jpg',\n",
       " './Dogs_and_Cats/train/cat.10093.jpg',\n",
       " './Dogs_and_Cats/train/cat.10094.jpg',\n",
       " './Dogs_and_Cats/train/cat.10095.jpg',\n",
       " './Dogs_and_Cats/train/cat.10096.jpg',\n",
       " './Dogs_and_Cats/train/cat.10097.jpg',\n",
       " './Dogs_and_Cats/train/cat.10098.jpg',\n",
       " './Dogs_and_Cats/train/cat.10099.jpg',\n",
       " './Dogs_and_Cats/train/cat.101.jpg',\n",
       " './Dogs_and_Cats/train/cat.1010.jpg',\n",
       " './Dogs_and_Cats/train/cat.10100.jpg',\n",
       " './Dogs_and_Cats/train/cat.10101.jpg',\n",
       " './Dogs_and_Cats/train/cat.10102.jpg',\n",
       " './Dogs_and_Cats/train/cat.10103.jpg',\n",
       " './Dogs_and_Cats/train/cat.10104.jpg',\n",
       " './Dogs_and_Cats/train/cat.10105.jpg',\n",
       " './Dogs_and_Cats/train/cat.10106.jpg',\n",
       " './Dogs_and_Cats/train/cat.10107.jpg',\n",
       " './Dogs_and_Cats/train/cat.10108.jpg',\n",
       " './Dogs_and_Cats/train/cat.10109.jpg',\n",
       " './Dogs_and_Cats/train/cat.1011.jpg',\n",
       " './Dogs_and_Cats/train/cat.10110.jpg',\n",
       " './Dogs_and_Cats/train/cat.10111.jpg',\n",
       " './Dogs_and_Cats/train/cat.10112.jpg',\n",
       " './Dogs_and_Cats/train/cat.10113.jpg',\n",
       " './Dogs_and_Cats/train/cat.10114.jpg',\n",
       " './Dogs_and_Cats/train/cat.10115.jpg',\n",
       " './Dogs_and_Cats/train/cat.10116.jpg',\n",
       " './Dogs_and_Cats/train/cat.10117.jpg',\n",
       " './Dogs_and_Cats/train/cat.10118.jpg',\n",
       " './Dogs_and_Cats/train/cat.10119.jpg',\n",
       " './Dogs_and_Cats/train/cat.1012.jpg',\n",
       " './Dogs_and_Cats/train/cat.10120.jpg',\n",
       " './Dogs_and_Cats/train/cat.10121.jpg',\n",
       " './Dogs_and_Cats/train/cat.10122.jpg',\n",
       " './Dogs_and_Cats/train/cat.10123.jpg',\n",
       " './Dogs_and_Cats/train/cat.10124.jpg',\n",
       " './Dogs_and_Cats/train/cat.10125.jpg',\n",
       " './Dogs_and_Cats/train/cat.10126.jpg',\n",
       " './Dogs_and_Cats/train/cat.10127.jpg',\n",
       " './Dogs_and_Cats/train/cat.10128.jpg',\n",
       " './Dogs_and_Cats/train/cat.10129.jpg',\n",
       " './Dogs_and_Cats/train/cat.1013.jpg',\n",
       " './Dogs_and_Cats/train/cat.10130.jpg',\n",
       " './Dogs_and_Cats/train/cat.10131.jpg',\n",
       " './Dogs_and_Cats/train/cat.10132.jpg',\n",
       " './Dogs_and_Cats/train/cat.10133.jpg',\n",
       " './Dogs_and_Cats/train/cat.10134.jpg',\n",
       " './Dogs_and_Cats/train/cat.10135.jpg',\n",
       " './Dogs_and_Cats/train/cat.10136.jpg',\n",
       " './Dogs_and_Cats/train/cat.10137.jpg',\n",
       " './Dogs_and_Cats/train/cat.10138.jpg',\n",
       " './Dogs_and_Cats/train/cat.10139.jpg',\n",
       " './Dogs_and_Cats/train/cat.1014.jpg',\n",
       " './Dogs_and_Cats/train/cat.10140.jpg',\n",
       " './Dogs_and_Cats/train/cat.10141.jpg',\n",
       " './Dogs_and_Cats/train/cat.10142.jpg',\n",
       " './Dogs_and_Cats/train/cat.10143.jpg',\n",
       " './Dogs_and_Cats/train/cat.10144.jpg',\n",
       " './Dogs_and_Cats/train/cat.10145.jpg',\n",
       " './Dogs_and_Cats/train/cat.10146.jpg',\n",
       " './Dogs_and_Cats/train/cat.10147.jpg',\n",
       " './Dogs_and_Cats/train/cat.10148.jpg',\n",
       " './Dogs_and_Cats/train/cat.10149.jpg',\n",
       " './Dogs_and_Cats/train/cat.1015.jpg',\n",
       " './Dogs_and_Cats/train/cat.10150.jpg',\n",
       " './Dogs_and_Cats/train/cat.10151.jpg',\n",
       " './Dogs_and_Cats/train/cat.10152.jpg',\n",
       " './Dogs_and_Cats/train/cat.10153.jpg',\n",
       " './Dogs_and_Cats/train/cat.10154.jpg',\n",
       " './Dogs_and_Cats/train/cat.10155.jpg',\n",
       " './Dogs_and_Cats/train/cat.10156.jpg',\n",
       " './Dogs_and_Cats/train/cat.10157.jpg',\n",
       " './Dogs_and_Cats/train/cat.10158.jpg',\n",
       " './Dogs_and_Cats/train/cat.10159.jpg',\n",
       " './Dogs_and_Cats/train/cat.1016.jpg',\n",
       " './Dogs_and_Cats/train/cat.10160.jpg',\n",
       " './Dogs_and_Cats/train/cat.10161.jpg',\n",
       " './Dogs_and_Cats/train/cat.10162.jpg',\n",
       " './Dogs_and_Cats/train/cat.10163.jpg',\n",
       " './Dogs_and_Cats/train/cat.10164.jpg',\n",
       " './Dogs_and_Cats/train/cat.10165.jpg',\n",
       " './Dogs_and_Cats/train/cat.10166.jpg',\n",
       " './Dogs_and_Cats/train/cat.10167.jpg',\n",
       " './Dogs_and_Cats/train/cat.10168.jpg',\n",
       " './Dogs_and_Cats/train/cat.10169.jpg',\n",
       " './Dogs_and_Cats/train/cat.1017.jpg',\n",
       " './Dogs_and_Cats/train/cat.10170.jpg',\n",
       " './Dogs_and_Cats/train/cat.10171.jpg',\n",
       " './Dogs_and_Cats/train/cat.10172.jpg',\n",
       " './Dogs_and_Cats/train/cat.10173.jpg',\n",
       " './Dogs_and_Cats/train/cat.10174.jpg',\n",
       " './Dogs_and_Cats/train/cat.10175.jpg',\n",
       " './Dogs_and_Cats/train/cat.10176.jpg',\n",
       " './Dogs_and_Cats/train/cat.10177.jpg',\n",
       " './Dogs_and_Cats/train/cat.10178.jpg',\n",
       " './Dogs_and_Cats/train/cat.10179.jpg',\n",
       " './Dogs_and_Cats/train/cat.1018.jpg',\n",
       " './Dogs_and_Cats/train/cat.10180.jpg',\n",
       " './Dogs_and_Cats/train/cat.10181.jpg',\n",
       " './Dogs_and_Cats/train/cat.10182.jpg',\n",
       " './Dogs_and_Cats/train/cat.10183.jpg',\n",
       " './Dogs_and_Cats/train/cat.10184.jpg',\n",
       " './Dogs_and_Cats/train/cat.10185.jpg',\n",
       " './Dogs_and_Cats/train/cat.10186.jpg',\n",
       " './Dogs_and_Cats/train/cat.10187.jpg',\n",
       " './Dogs_and_Cats/train/cat.10188.jpg',\n",
       " './Dogs_and_Cats/train/cat.10189.jpg',\n",
       " './Dogs_and_Cats/train/cat.1019.jpg',\n",
       " './Dogs_and_Cats/train/cat.10190.jpg',\n",
       " './Dogs_and_Cats/train/cat.10191.jpg',\n",
       " './Dogs_and_Cats/train/cat.10192.jpg',\n",
       " './Dogs_and_Cats/train/cat.10193.jpg',\n",
       " './Dogs_and_Cats/train/cat.10194.jpg',\n",
       " './Dogs_and_Cats/train/cat.10195.jpg',\n",
       " './Dogs_and_Cats/train/cat.10196.jpg',\n",
       " './Dogs_and_Cats/train/cat.10197.jpg',\n",
       " './Dogs_and_Cats/train/cat.10198.jpg',\n",
       " './Dogs_and_Cats/train/cat.10199.jpg',\n",
       " './Dogs_and_Cats/train/cat.102.jpg',\n",
       " './Dogs_and_Cats/train/cat.1020.jpg',\n",
       " './Dogs_and_Cats/train/cat.10200.jpg',\n",
       " './Dogs_and_Cats/train/cat.10201.jpg',\n",
       " './Dogs_and_Cats/train/cat.10202.jpg',\n",
       " './Dogs_and_Cats/train/cat.10203.jpg',\n",
       " './Dogs_and_Cats/train/cat.10204.jpg',\n",
       " './Dogs_and_Cats/train/cat.10205.jpg',\n",
       " './Dogs_and_Cats/train/cat.10206.jpg',\n",
       " './Dogs_and_Cats/train/cat.10207.jpg',\n",
       " './Dogs_and_Cats/train/cat.10208.jpg',\n",
       " './Dogs_and_Cats/train/cat.10209.jpg',\n",
       " './Dogs_and_Cats/train/cat.1021.jpg',\n",
       " './Dogs_and_Cats/train/cat.10210.jpg',\n",
       " './Dogs_and_Cats/train/cat.10211.jpg',\n",
       " './Dogs_and_Cats/train/cat.10212.jpg',\n",
       " './Dogs_and_Cats/train/cat.10213.jpg',\n",
       " './Dogs_and_Cats/train/cat.10214.jpg',\n",
       " './Dogs_and_Cats/train/cat.10215.jpg',\n",
       " './Dogs_and_Cats/train/cat.10216.jpg',\n",
       " './Dogs_and_Cats/train/cat.10217.jpg',\n",
       " './Dogs_and_Cats/train/cat.10218.jpg',\n",
       " './Dogs_and_Cats/train/cat.10219.jpg',\n",
       " './Dogs_and_Cats/train/cat.1022.jpg',\n",
       " './Dogs_and_Cats/train/cat.10220.jpg',\n",
       " './Dogs_and_Cats/train/cat.10221.jpg',\n",
       " './Dogs_and_Cats/train/cat.10222.jpg',\n",
       " './Dogs_and_Cats/train/cat.10223.jpg',\n",
       " './Dogs_and_Cats/train/cat.10224.jpg',\n",
       " './Dogs_and_Cats/train/cat.10225.jpg',\n",
       " './Dogs_and_Cats/train/cat.10226.jpg',\n",
       " './Dogs_and_Cats/train/cat.10227.jpg',\n",
       " './Dogs_and_Cats/train/cat.10228.jpg',\n",
       " './Dogs_and_Cats/train/cat.10229.jpg',\n",
       " './Dogs_and_Cats/train/cat.1023.jpg',\n",
       " './Dogs_and_Cats/train/cat.10230.jpg',\n",
       " './Dogs_and_Cats/train/cat.10231.jpg',\n",
       " './Dogs_and_Cats/train/cat.10232.jpg',\n",
       " './Dogs_and_Cats/train/cat.10233.jpg',\n",
       " './Dogs_and_Cats/train/cat.10234.jpg',\n",
       " './Dogs_and_Cats/train/cat.10235.jpg',\n",
       " './Dogs_and_Cats/train/cat.10236.jpg',\n",
       " './Dogs_and_Cats/train/cat.10237.jpg',\n",
       " './Dogs_and_Cats/train/cat.10238.jpg',\n",
       " './Dogs_and_Cats/train/cat.10239.jpg',\n",
       " './Dogs_and_Cats/train/cat.1024.jpg',\n",
       " './Dogs_and_Cats/train/cat.10240.jpg',\n",
       " './Dogs_and_Cats/train/cat.10241.jpg',\n",
       " './Dogs_and_Cats/train/cat.10242.jpg',\n",
       " './Dogs_and_Cats/train/cat.10243.jpg',\n",
       " './Dogs_and_Cats/train/cat.10244.jpg',\n",
       " './Dogs_and_Cats/train/cat.10245.jpg',\n",
       " './Dogs_and_Cats/train/cat.10246.jpg',\n",
       " './Dogs_and_Cats/train/cat.10247.jpg',\n",
       " './Dogs_and_Cats/train/cat.10248.jpg',\n",
       " './Dogs_and_Cats/train/cat.10249.jpg',\n",
       " './Dogs_and_Cats/train/cat.1025.jpg',\n",
       " './Dogs_and_Cats/train/cat.10250.jpg',\n",
       " './Dogs_and_Cats/train/cat.10251.jpg',\n",
       " './Dogs_and_Cats/train/cat.10252.jpg',\n",
       " './Dogs_and_Cats/train/cat.10253.jpg',\n",
       " './Dogs_and_Cats/train/cat.10254.jpg',\n",
       " './Dogs_and_Cats/train/cat.10255.jpg',\n",
       " './Dogs_and_Cats/train/cat.10256.jpg',\n",
       " './Dogs_and_Cats/train/cat.10257.jpg',\n",
       " './Dogs_and_Cats/train/cat.10258.jpg',\n",
       " './Dogs_and_Cats/train/cat.10259.jpg',\n",
       " './Dogs_and_Cats/train/cat.1026.jpg',\n",
       " './Dogs_and_Cats/train/cat.10260.jpg',\n",
       " './Dogs_and_Cats/train/cat.10261.jpg',\n",
       " './Dogs_and_Cats/train/cat.10262.jpg',\n",
       " './Dogs_and_Cats/train/cat.10263.jpg',\n",
       " './Dogs_and_Cats/train/cat.10264.jpg',\n",
       " './Dogs_and_Cats/train/cat.10265.jpg',\n",
       " './Dogs_and_Cats/train/cat.10266.jpg',\n",
       " './Dogs_and_Cats/train/cat.10267.jpg',\n",
       " './Dogs_and_Cats/train/cat.10268.jpg',\n",
       " './Dogs_and_Cats/train/cat.10269.jpg',\n",
       " './Dogs_and_Cats/train/cat.1027.jpg',\n",
       " './Dogs_and_Cats/train/cat.10270.jpg',\n",
       " './Dogs_and_Cats/train/cat.10271.jpg',\n",
       " './Dogs_and_Cats/train/cat.10272.jpg',\n",
       " './Dogs_and_Cats/train/cat.10273.jpg',\n",
       " './Dogs_and_Cats/train/cat.10274.jpg',\n",
       " './Dogs_and_Cats/train/cat.10275.jpg',\n",
       " './Dogs_and_Cats/train/cat.10276.jpg',\n",
       " './Dogs_and_Cats/train/cat.10277.jpg',\n",
       " './Dogs_and_Cats/train/cat.10278.jpg',\n",
       " './Dogs_and_Cats/train/cat.10279.jpg',\n",
       " './Dogs_and_Cats/train/cat.1028.jpg',\n",
       " './Dogs_and_Cats/train/cat.10280.jpg',\n",
       " './Dogs_and_Cats/train/cat.10281.jpg',\n",
       " './Dogs_and_Cats/train/cat.10282.jpg',\n",
       " './Dogs_and_Cats/train/cat.10283.jpg',\n",
       " './Dogs_and_Cats/train/cat.10284.jpg',\n",
       " './Dogs_and_Cats/train/cat.10285.jpg',\n",
       " './Dogs_and_Cats/train/cat.10286.jpg',\n",
       " './Dogs_and_Cats/train/cat.10287.jpg',\n",
       " './Dogs_and_Cats/train/cat.10288.jpg',\n",
       " './Dogs_and_Cats/train/cat.10289.jpg',\n",
       " './Dogs_and_Cats/train/cat.1029.jpg',\n",
       " './Dogs_and_Cats/train/cat.10290.jpg',\n",
       " './Dogs_and_Cats/train/cat.10291.jpg',\n",
       " './Dogs_and_Cats/train/cat.10292.jpg',\n",
       " './Dogs_and_Cats/train/cat.10293.jpg',\n",
       " './Dogs_and_Cats/train/cat.10294.jpg',\n",
       " './Dogs_and_Cats/train/cat.10295.jpg',\n",
       " './Dogs_and_Cats/train/cat.10296.jpg',\n",
       " './Dogs_and_Cats/train/cat.10297.jpg',\n",
       " './Dogs_and_Cats/train/cat.10298.jpg',\n",
       " './Dogs_and_Cats/train/cat.10299.jpg',\n",
       " './Dogs_and_Cats/train/cat.103.jpg',\n",
       " './Dogs_and_Cats/train/cat.1030.jpg',\n",
       " './Dogs_and_Cats/train/cat.10300.jpg',\n",
       " './Dogs_and_Cats/train/cat.10301.jpg',\n",
       " './Dogs_and_Cats/train/cat.10302.jpg',\n",
       " './Dogs_and_Cats/train/cat.10303.jpg',\n",
       " './Dogs_and_Cats/train/cat.10304.jpg',\n",
       " './Dogs_and_Cats/train/cat.10305.jpg',\n",
       " './Dogs_and_Cats/train/cat.10306.jpg',\n",
       " './Dogs_and_Cats/train/cat.10307.jpg',\n",
       " './Dogs_and_Cats/train/cat.10308.jpg',\n",
       " './Dogs_and_Cats/train/cat.10309.jpg',\n",
       " './Dogs_and_Cats/train/cat.1031.jpg',\n",
       " './Dogs_and_Cats/train/cat.10310.jpg',\n",
       " './Dogs_and_Cats/train/cat.10311.jpg',\n",
       " './Dogs_and_Cats/train/cat.10312.jpg',\n",
       " './Dogs_and_Cats/train/cat.10313.jpg',\n",
       " './Dogs_and_Cats/train/cat.10314.jpg',\n",
       " './Dogs_and_Cats/train/cat.10315.jpg',\n",
       " './Dogs_and_Cats/train/cat.10316.jpg',\n",
       " './Dogs_and_Cats/train/cat.10317.jpg',\n",
       " './Dogs_and_Cats/train/cat.10318.jpg',\n",
       " './Dogs_and_Cats/train/cat.10319.jpg',\n",
       " './Dogs_and_Cats/train/cat.1032.jpg',\n",
       " './Dogs_and_Cats/train/cat.10320.jpg',\n",
       " './Dogs_and_Cats/train/cat.10321.jpg',\n",
       " './Dogs_and_Cats/train/cat.10322.jpg',\n",
       " './Dogs_and_Cats/train/cat.10323.jpg',\n",
       " './Dogs_and_Cats/train/cat.10324.jpg',\n",
       " './Dogs_and_Cats/train/cat.10325.jpg',\n",
       " './Dogs_and_Cats/train/cat.10326.jpg',\n",
       " './Dogs_and_Cats/train/cat.10327.jpg',\n",
       " './Dogs_and_Cats/train/cat.10328.jpg',\n",
       " './Dogs_and_Cats/train/cat.10329.jpg',\n",
       " './Dogs_and_Cats/train/cat.1033.jpg',\n",
       " './Dogs_and_Cats/train/cat.10330.jpg',\n",
       " './Dogs_and_Cats/train/cat.10331.jpg',\n",
       " './Dogs_and_Cats/train/cat.10332.jpg',\n",
       " './Dogs_and_Cats/train/cat.10333.jpg',\n",
       " './Dogs_and_Cats/train/cat.10334.jpg',\n",
       " './Dogs_and_Cats/train/cat.10335.jpg',\n",
       " './Dogs_and_Cats/train/cat.10336.jpg',\n",
       " './Dogs_and_Cats/train/cat.10337.jpg',\n",
       " './Dogs_and_Cats/train/cat.10338.jpg',\n",
       " './Dogs_and_Cats/train/cat.10339.jpg',\n",
       " './Dogs_and_Cats/train/cat.1034.jpg',\n",
       " './Dogs_and_Cats/train/cat.10340.jpg',\n",
       " './Dogs_and_Cats/train/cat.10341.jpg',\n",
       " './Dogs_and_Cats/train/cat.10342.jpg',\n",
       " './Dogs_and_Cats/train/cat.10343.jpg',\n",
       " './Dogs_and_Cats/train/cat.10344.jpg',\n",
       " './Dogs_and_Cats/train/cat.10345.jpg',\n",
       " './Dogs_and_Cats/train/cat.10346.jpg',\n",
       " './Dogs_and_Cats/train/cat.10347.jpg',\n",
       " './Dogs_and_Cats/train/cat.10348.jpg',\n",
       " './Dogs_and_Cats/train/cat.10349.jpg',\n",
       " './Dogs_and_Cats/train/cat.1035.jpg',\n",
       " './Dogs_and_Cats/train/cat.10350.jpg',\n",
       " './Dogs_and_Cats/train/cat.10351.jpg',\n",
       " './Dogs_and_Cats/train/cat.10352.jpg',\n",
       " './Dogs_and_Cats/train/cat.10353.jpg',\n",
       " './Dogs_and_Cats/train/cat.10354.jpg',\n",
       " './Dogs_and_Cats/train/cat.10355.jpg',\n",
       " './Dogs_and_Cats/train/cat.10356.jpg',\n",
       " './Dogs_and_Cats/train/cat.10357.jpg',\n",
       " './Dogs_and_Cats/train/cat.10358.jpg',\n",
       " './Dogs_and_Cats/train/cat.10359.jpg',\n",
       " './Dogs_and_Cats/train/cat.1036.jpg',\n",
       " './Dogs_and_Cats/train/cat.10360.jpg',\n",
       " './Dogs_and_Cats/train/cat.10361.jpg',\n",
       " './Dogs_and_Cats/train/cat.10362.jpg',\n",
       " './Dogs_and_Cats/train/cat.10363.jpg',\n",
       " './Dogs_and_Cats/train/cat.10364.jpg',\n",
       " './Dogs_and_Cats/train/cat.10365.jpg',\n",
       " './Dogs_and_Cats/train/cat.10366.jpg',\n",
       " './Dogs_and_Cats/train/cat.10367.jpg',\n",
       " './Dogs_and_Cats/train/cat.10368.jpg',\n",
       " './Dogs_and_Cats/train/cat.10369.jpg',\n",
       " './Dogs_and_Cats/train/cat.1037.jpg',\n",
       " './Dogs_and_Cats/train/cat.10370.jpg',\n",
       " './Dogs_and_Cats/train/cat.10371.jpg',\n",
       " './Dogs_and_Cats/train/cat.10372.jpg',\n",
       " './Dogs_and_Cats/train/cat.10373.jpg',\n",
       " './Dogs_and_Cats/train/cat.10374.jpg',\n",
       " './Dogs_and_Cats/train/cat.10375.jpg',\n",
       " './Dogs_and_Cats/train/cat.10376.jpg',\n",
       " './Dogs_and_Cats/train/cat.10377.jpg',\n",
       " './Dogs_and_Cats/train/cat.10378.jpg',\n",
       " './Dogs_and_Cats/train/cat.10379.jpg',\n",
       " './Dogs_and_Cats/train/cat.1038.jpg',\n",
       " './Dogs_and_Cats/train/cat.10380.jpg',\n",
       " './Dogs_and_Cats/train/cat.10381.jpg',\n",
       " './Dogs_and_Cats/train/cat.10382.jpg',\n",
       " './Dogs_and_Cats/train/cat.10383.jpg',\n",
       " './Dogs_and_Cats/train/cat.10384.jpg',\n",
       " './Dogs_and_Cats/train/cat.10385.jpg',\n",
       " './Dogs_and_Cats/train/cat.10386.jpg',\n",
       " './Dogs_and_Cats/train/cat.10387.jpg',\n",
       " './Dogs_and_Cats/train/cat.10388.jpg',\n",
       " './Dogs_and_Cats/train/cat.10389.jpg',\n",
       " './Dogs_and_Cats/train/cat.1039.jpg',\n",
       " './Dogs_and_Cats/train/cat.10390.jpg',\n",
       " './Dogs_and_Cats/train/cat.10391.jpg',\n",
       " './Dogs_and_Cats/train/cat.10392.jpg',\n",
       " './Dogs_and_Cats/train/cat.10393.jpg',\n",
       " './Dogs_and_Cats/train/cat.10394.jpg',\n",
       " './Dogs_and_Cats/train/cat.10395.jpg',\n",
       " './Dogs_and_Cats/train/cat.10396.jpg',\n",
       " './Dogs_and_Cats/train/cat.10397.jpg',\n",
       " './Dogs_and_Cats/train/cat.10398.jpg',\n",
       " './Dogs_and_Cats/train/cat.10399.jpg',\n",
       " './Dogs_and_Cats/train/cat.104.jpg',\n",
       " './Dogs_and_Cats/train/cat.1040.jpg',\n",
       " './Dogs_and_Cats/train/cat.10400.jpg',\n",
       " './Dogs_and_Cats/train/cat.10401.jpg',\n",
       " './Dogs_and_Cats/train/cat.10402.jpg',\n",
       " './Dogs_and_Cats/train/cat.10403.jpg',\n",
       " './Dogs_and_Cats/train/cat.10404.jpg',\n",
       " './Dogs_and_Cats/train/cat.10405.jpg',\n",
       " './Dogs_and_Cats/train/cat.10406.jpg',\n",
       " './Dogs_and_Cats/train/cat.10407.jpg',\n",
       " './Dogs_and_Cats/train/cat.10408.jpg',\n",
       " './Dogs_and_Cats/train/cat.10409.jpg',\n",
       " './Dogs_and_Cats/train/cat.1041.jpg',\n",
       " './Dogs_and_Cats/train/cat.10410.jpg',\n",
       " './Dogs_and_Cats/train/cat.10411.jpg',\n",
       " './Dogs_and_Cats/train/cat.10412.jpg',\n",
       " './Dogs_and_Cats/train/cat.10413.jpg',\n",
       " './Dogs_and_Cats/train/cat.10414.jpg',\n",
       " './Dogs_and_Cats/train/cat.10415.jpg',\n",
       " './Dogs_and_Cats/train/cat.10416.jpg',\n",
       " './Dogs_and_Cats/train/cat.10417.jpg',\n",
       " './Dogs_and_Cats/train/cat.10418.jpg',\n",
       " './Dogs_and_Cats/train/cat.10419.jpg',\n",
       " './Dogs_and_Cats/train/cat.1042.jpg',\n",
       " './Dogs_and_Cats/train/cat.10420.jpg',\n",
       " './Dogs_and_Cats/train/cat.10421.jpg',\n",
       " './Dogs_and_Cats/train/cat.10422.jpg',\n",
       " './Dogs_and_Cats/train/cat.10423.jpg',\n",
       " './Dogs_and_Cats/train/cat.10424.jpg',\n",
       " './Dogs_and_Cats/train/cat.10425.jpg',\n",
       " './Dogs_and_Cats/train/cat.10426.jpg',\n",
       " './Dogs_and_Cats/train/cat.10427.jpg',\n",
       " './Dogs_and_Cats/train/cat.10428.jpg',\n",
       " './Dogs_and_Cats/train/cat.10429.jpg',\n",
       " './Dogs_and_Cats/train/cat.1043.jpg',\n",
       " './Dogs_and_Cats/train/cat.10430.jpg',\n",
       " './Dogs_and_Cats/train/cat.10431.jpg',\n",
       " './Dogs_and_Cats/train/cat.10432.jpg',\n",
       " './Dogs_and_Cats/train/cat.10433.jpg',\n",
       " './Dogs_and_Cats/train/cat.10434.jpg',\n",
       " './Dogs_and_Cats/train/cat.10435.jpg',\n",
       " './Dogs_and_Cats/train/cat.10436.jpg',\n",
       " './Dogs_and_Cats/train/cat.10437.jpg',\n",
       " './Dogs_and_Cats/train/cat.10438.jpg',\n",
       " './Dogs_and_Cats/train/cat.10439.jpg',\n",
       " './Dogs_and_Cats/train/cat.1044.jpg',\n",
       " './Dogs_and_Cats/train/cat.10440.jpg',\n",
       " './Dogs_and_Cats/train/cat.10441.jpg',\n",
       " './Dogs_and_Cats/train/cat.10442.jpg',\n",
       " './Dogs_and_Cats/train/cat.10443.jpg',\n",
       " './Dogs_and_Cats/train/cat.10444.jpg',\n",
       " './Dogs_and_Cats/train/cat.10445.jpg',\n",
       " './Dogs_and_Cats/train/cat.10446.jpg',\n",
       " './Dogs_and_Cats/train/cat.10447.jpg',\n",
       " './Dogs_and_Cats/train/cat.10448.jpg',\n",
       " './Dogs_and_Cats/train/cat.10449.jpg',\n",
       " './Dogs_and_Cats/train/cat.1045.jpg',\n",
       " './Dogs_and_Cats/train/cat.10450.jpg',\n",
       " './Dogs_and_Cats/train/cat.10451.jpg',\n",
       " './Dogs_and_Cats/train/cat.10452.jpg',\n",
       " './Dogs_and_Cats/train/cat.10453.jpg',\n",
       " './Dogs_and_Cats/train/cat.10454.jpg',\n",
       " './Dogs_and_Cats/train/cat.10455.jpg',\n",
       " './Dogs_and_Cats/train/cat.10456.jpg',\n",
       " './Dogs_and_Cats/train/cat.10457.jpg',\n",
       " './Dogs_and_Cats/train/cat.10458.jpg',\n",
       " './Dogs_and_Cats/train/cat.10459.jpg',\n",
       " './Dogs_and_Cats/train/cat.1046.jpg',\n",
       " './Dogs_and_Cats/train/cat.10460.jpg',\n",
       " './Dogs_and_Cats/train/cat.10461.jpg',\n",
       " './Dogs_and_Cats/train/cat.10462.jpg',\n",
       " './Dogs_and_Cats/train/cat.10463.jpg',\n",
       " './Dogs_and_Cats/train/cat.10464.jpg',\n",
       " './Dogs_and_Cats/train/cat.10465.jpg',\n",
       " './Dogs_and_Cats/train/cat.10466.jpg',\n",
       " './Dogs_and_Cats/train/cat.10467.jpg',\n",
       " './Dogs_and_Cats/train/cat.10468.jpg',\n",
       " './Dogs_and_Cats/train/cat.10469.jpg',\n",
       " './Dogs_and_Cats/train/cat.1047.jpg',\n",
       " './Dogs_and_Cats/train/cat.10470.jpg',\n",
       " './Dogs_and_Cats/train/cat.10471.jpg',\n",
       " './Dogs_and_Cats/train/cat.10472.jpg',\n",
       " './Dogs_and_Cats/train/cat.10473.jpg',\n",
       " './Dogs_and_Cats/train/cat.10474.jpg',\n",
       " './Dogs_and_Cats/train/cat.10475.jpg',\n",
       " './Dogs_and_Cats/train/cat.10476.jpg',\n",
       " './Dogs_and_Cats/train/cat.10477.jpg',\n",
       " './Dogs_and_Cats/train/cat.10478.jpg',\n",
       " './Dogs_and_Cats/train/cat.10479.jpg',\n",
       " './Dogs_and_Cats/train/cat.1048.jpg',\n",
       " './Dogs_and_Cats/train/cat.10480.jpg',\n",
       " './Dogs_and_Cats/train/cat.10481.jpg',\n",
       " './Dogs_and_Cats/train/cat.10482.jpg',\n",
       " './Dogs_and_Cats/train/cat.10483.jpg',\n",
       " './Dogs_and_Cats/train/cat.10484.jpg',\n",
       " './Dogs_and_Cats/train/cat.10485.jpg',\n",
       " './Dogs_and_Cats/train/cat.10486.jpg',\n",
       " './Dogs_and_Cats/train/cat.10487.jpg',\n",
       " './Dogs_and_Cats/train/cat.10488.jpg',\n",
       " './Dogs_and_Cats/train/cat.10489.jpg',\n",
       " './Dogs_and_Cats/train/cat.1049.jpg',\n",
       " './Dogs_and_Cats/train/cat.10490.jpg',\n",
       " './Dogs_and_Cats/train/cat.10491.jpg',\n",
       " './Dogs_and_Cats/train/cat.10492.jpg',\n",
       " './Dogs_and_Cats/train/cat.10493.jpg',\n",
       " './Dogs_and_Cats/train/cat.10494.jpg',\n",
       " './Dogs_and_Cats/train/cat.10495.jpg',\n",
       " './Dogs_and_Cats/train/cat.10496.jpg',\n",
       " './Dogs_and_Cats/train/cat.10497.jpg',\n",
       " './Dogs_and_Cats/train/cat.10498.jpg',\n",
       " './Dogs_and_Cats/train/cat.10499.jpg',\n",
       " './Dogs_and_Cats/train/cat.105.jpg',\n",
       " './Dogs_and_Cats/train/cat.1050.jpg',\n",
       " './Dogs_and_Cats/train/cat.10500.jpg',\n",
       " './Dogs_and_Cats/train/cat.10501.jpg',\n",
       " './Dogs_and_Cats/train/cat.10502.jpg',\n",
       " './Dogs_and_Cats/train/cat.10503.jpg',\n",
       " './Dogs_and_Cats/train/cat.10504.jpg',\n",
       " './Dogs_and_Cats/train/cat.10505.jpg',\n",
       " './Dogs_and_Cats/train/cat.10506.jpg',\n",
       " './Dogs_and_Cats/train/cat.10507.jpg',\n",
       " './Dogs_and_Cats/train/cat.10508.jpg',\n",
       " './Dogs_and_Cats/train/cat.10509.jpg',\n",
       " './Dogs_and_Cats/train/cat.1051.jpg',\n",
       " './Dogs_and_Cats/train/cat.10510.jpg',\n",
       " './Dogs_and_Cats/train/cat.10511.jpg',\n",
       " './Dogs_and_Cats/train/cat.10512.jpg',\n",
       " './Dogs_and_Cats/train/cat.10513.jpg',\n",
       " './Dogs_and_Cats/train/cat.10514.jpg',\n",
       " './Dogs_and_Cats/train/cat.10515.jpg',\n",
       " './Dogs_and_Cats/train/cat.10516.jpg',\n",
       " './Dogs_and_Cats/train/cat.10517.jpg',\n",
       " './Dogs_and_Cats/train/cat.10518.jpg',\n",
       " './Dogs_and_Cats/train/cat.10519.jpg',\n",
       " './Dogs_and_Cats/train/cat.1052.jpg',\n",
       " './Dogs_and_Cats/train/cat.10520.jpg',\n",
       " './Dogs_and_Cats/train/cat.10521.jpg',\n",
       " './Dogs_and_Cats/train/cat.10522.jpg',\n",
       " './Dogs_and_Cats/train/cat.10523.jpg',\n",
       " './Dogs_and_Cats/train/cat.10524.jpg',\n",
       " './Dogs_and_Cats/train/cat.10525.jpg',\n",
       " './Dogs_and_Cats/train/cat.10526.jpg',\n",
       " './Dogs_and_Cats/train/cat.10527.jpg',\n",
       " './Dogs_and_Cats/train/cat.10528.jpg',\n",
       " './Dogs_and_Cats/train/cat.10529.jpg',\n",
       " './Dogs_and_Cats/train/cat.1053.jpg',\n",
       " './Dogs_and_Cats/train/cat.10530.jpg',\n",
       " './Dogs_and_Cats/train/cat.10531.jpg',\n",
       " './Dogs_and_Cats/train/cat.10532.jpg',\n",
       " './Dogs_and_Cats/train/cat.10533.jpg',\n",
       " './Dogs_and_Cats/train/cat.10534.jpg',\n",
       " './Dogs_and_Cats/train/cat.10535.jpg',\n",
       " './Dogs_and_Cats/train/cat.10536.jpg',\n",
       " './Dogs_and_Cats/train/cat.10537.jpg',\n",
       " './Dogs_and_Cats/train/cat.10538.jpg',\n",
       " './Dogs_and_Cats/train/cat.10539.jpg',\n",
       " './Dogs_and_Cats/train/cat.1054.jpg',\n",
       " './Dogs_and_Cats/train/cat.10540.jpg',\n",
       " './Dogs_and_Cats/train/cat.10541.jpg',\n",
       " './Dogs_and_Cats/train/cat.10542.jpg',\n",
       " './Dogs_and_Cats/train/cat.10543.jpg',\n",
       " './Dogs_and_Cats/train/cat.10544.jpg',\n",
       " './Dogs_and_Cats/train/cat.10545.jpg',\n",
       " './Dogs_and_Cats/train/cat.10546.jpg',\n",
       " './Dogs_and_Cats/train/cat.10547.jpg',\n",
       " './Dogs_and_Cats/train/cat.10548.jpg',\n",
       " './Dogs_and_Cats/train/cat.10549.jpg',\n",
       " './Dogs_and_Cats/train/cat.1055.jpg',\n",
       " './Dogs_and_Cats/train/cat.10550.jpg',\n",
       " './Dogs_and_Cats/train/cat.10551.jpg',\n",
       " './Dogs_and_Cats/train/cat.10552.jpg',\n",
       " './Dogs_and_Cats/train/cat.10553.jpg',\n",
       " './Dogs_and_Cats/train/cat.10554.jpg',\n",
       " './Dogs_and_Cats/train/cat.10555.jpg',\n",
       " './Dogs_and_Cats/train/cat.10556.jpg',\n",
       " './Dogs_and_Cats/train/cat.10557.jpg',\n",
       " './Dogs_and_Cats/train/cat.10558.jpg',\n",
       " './Dogs_and_Cats/train/cat.10559.jpg',\n",
       " './Dogs_and_Cats/train/cat.1056.jpg',\n",
       " './Dogs_and_Cats/train/cat.10560.jpg',\n",
       " './Dogs_and_Cats/train/cat.10561.jpg',\n",
       " './Dogs_and_Cats/train/cat.10562.jpg',\n",
       " './Dogs_and_Cats/train/cat.10563.jpg',\n",
       " './Dogs_and_Cats/train/cat.10564.jpg',\n",
       " './Dogs_and_Cats/train/cat.10565.jpg',\n",
       " './Dogs_and_Cats/train/cat.10566.jpg',\n",
       " './Dogs_and_Cats/train/cat.10567.jpg',\n",
       " './Dogs_and_Cats/train/cat.10568.jpg',\n",
       " './Dogs_and_Cats/train/cat.10569.jpg',\n",
       " './Dogs_and_Cats/train/cat.1057.jpg',\n",
       " './Dogs_and_Cats/train/cat.10570.jpg',\n",
       " './Dogs_and_Cats/train/cat.10571.jpg',\n",
       " './Dogs_and_Cats/train/cat.10572.jpg',\n",
       " './Dogs_and_Cats/train/cat.10573.jpg',\n",
       " './Dogs_and_Cats/train/cat.10574.jpg',\n",
       " './Dogs_and_Cats/train/cat.10575.jpg',\n",
       " './Dogs_and_Cats/train/cat.10576.jpg',\n",
       " './Dogs_and_Cats/train/cat.10577.jpg',\n",
       " './Dogs_and_Cats/train/cat.10578.jpg',\n",
       " './Dogs_and_Cats/train/cat.10579.jpg',\n",
       " './Dogs_and_Cats/train/cat.1058.jpg',\n",
       " './Dogs_and_Cats/train/cat.10580.jpg',\n",
       " './Dogs_and_Cats/train/cat.10581.jpg',\n",
       " './Dogs_and_Cats/train/cat.10582.jpg',\n",
       " './Dogs_and_Cats/train/cat.10583.jpg',\n",
       " './Dogs_and_Cats/train/cat.10584.jpg',\n",
       " './Dogs_and_Cats/train/cat.10585.jpg',\n",
       " './Dogs_and_Cats/train/cat.10586.jpg',\n",
       " './Dogs_and_Cats/train/cat.10587.jpg',\n",
       " './Dogs_and_Cats/train/cat.10588.jpg',\n",
       " './Dogs_and_Cats/train/cat.10589.jpg',\n",
       " './Dogs_and_Cats/train/cat.1059.jpg',\n",
       " './Dogs_and_Cats/train/cat.10590.jpg',\n",
       " './Dogs_and_Cats/train/cat.10591.jpg',\n",
       " './Dogs_and_Cats/train/cat.10592.jpg',\n",
       " './Dogs_and_Cats/train/cat.10593.jpg',\n",
       " './Dogs_and_Cats/train/cat.10594.jpg',\n",
       " './Dogs_and_Cats/train/cat.10595.jpg',\n",
       " './Dogs_and_Cats/train/cat.10596.jpg',\n",
       " './Dogs_and_Cats/train/cat.10597.jpg',\n",
       " './Dogs_and_Cats/train/cat.10598.jpg',\n",
       " './Dogs_and_Cats/train/cat.10599.jpg',\n",
       " './Dogs_and_Cats/train/cat.106.jpg',\n",
       " './Dogs_and_Cats/train/cat.1060.jpg',\n",
       " './Dogs_and_Cats/train/cat.10600.jpg',\n",
       " './Dogs_and_Cats/train/cat.10601.jpg',\n",
       " './Dogs_and_Cats/train/cat.10602.jpg',\n",
       " './Dogs_and_Cats/train/cat.10603.jpg',\n",
       " './Dogs_and_Cats/train/cat.10604.jpg',\n",
       " './Dogs_and_Cats/train/cat.10605.jpg',\n",
       " './Dogs_and_Cats/train/cat.10606.jpg',\n",
       " './Dogs_and_Cats/train/cat.10607.jpg',\n",
       " './Dogs_and_Cats/train/cat.10608.jpg',\n",
       " './Dogs_and_Cats/train/cat.10609.jpg',\n",
       " './Dogs_and_Cats/train/cat.1061.jpg',\n",
       " './Dogs_and_Cats/train/cat.10610.jpg',\n",
       " './Dogs_and_Cats/train/cat.10611.jpg',\n",
       " './Dogs_and_Cats/train/cat.10612.jpg',\n",
       " './Dogs_and_Cats/train/cat.10613.jpg',\n",
       " './Dogs_and_Cats/train/cat.10614.jpg',\n",
       " './Dogs_and_Cats/train/cat.10615.jpg',\n",
       " './Dogs_and_Cats/train/cat.10616.jpg',\n",
       " './Dogs_and_Cats/train/cat.10617.jpg',\n",
       " './Dogs_and_Cats/train/cat.10618.jpg',\n",
       " './Dogs_and_Cats/train/cat.10619.jpg',\n",
       " './Dogs_and_Cats/train/cat.1062.jpg',\n",
       " './Dogs_and_Cats/train/cat.10620.jpg',\n",
       " './Dogs_and_Cats/train/cat.10621.jpg',\n",
       " './Dogs_and_Cats/train/cat.10622.jpg',\n",
       " './Dogs_and_Cats/train/cat.10623.jpg',\n",
       " './Dogs_and_Cats/train/cat.10624.jpg',\n",
       " './Dogs_and_Cats/train/cat.10625.jpg',\n",
       " './Dogs_and_Cats/train/cat.10626.jpg',\n",
       " './Dogs_and_Cats/train/cat.10627.jpg',\n",
       " './Dogs_and_Cats/train/cat.10628.jpg',\n",
       " './Dogs_and_Cats/train/cat.10629.jpg',\n",
       " './Dogs_and_Cats/train/cat.1063.jpg',\n",
       " './Dogs_and_Cats/train/cat.10630.jpg',\n",
       " './Dogs_and_Cats/train/cat.10631.jpg',\n",
       " './Dogs_and_Cats/train/cat.10632.jpg',\n",
       " './Dogs_and_Cats/train/cat.10633.jpg',\n",
       " './Dogs_and_Cats/train/cat.10634.jpg',\n",
       " './Dogs_and_Cats/train/cat.10635.jpg',\n",
       " './Dogs_and_Cats/train/cat.10636.jpg',\n",
       " './Dogs_and_Cats/train/cat.10637.jpg',\n",
       " './Dogs_and_Cats/train/cat.10638.jpg',\n",
       " './Dogs_and_Cats/train/cat.10639.jpg',\n",
       " './Dogs_and_Cats/train/cat.1064.jpg',\n",
       " './Dogs_and_Cats/train/cat.10640.jpg',\n",
       " './Dogs_and_Cats/train/cat.10641.jpg',\n",
       " './Dogs_and_Cats/train/cat.10642.jpg',\n",
       " './Dogs_and_Cats/train/cat.10643.jpg',\n",
       " './Dogs_and_Cats/train/cat.10644.jpg',\n",
       " './Dogs_and_Cats/train/cat.10645.jpg',\n",
       " './Dogs_and_Cats/train/cat.10646.jpg',\n",
       " './Dogs_and_Cats/train/cat.10647.jpg',\n",
       " './Dogs_and_Cats/train/cat.10648.jpg',\n",
       " './Dogs_and_Cats/train/cat.10649.jpg',\n",
       " './Dogs_and_Cats/train/cat.1065.jpg',\n",
       " './Dogs_and_Cats/train/cat.10650.jpg',\n",
       " './Dogs_and_Cats/train/cat.10651.jpg',\n",
       " './Dogs_and_Cats/train/cat.10652.jpg',\n",
       " './Dogs_and_Cats/train/cat.10653.jpg',\n",
       " './Dogs_and_Cats/train/cat.10654.jpg',\n",
       " './Dogs_and_Cats/train/cat.10655.jpg',\n",
       " './Dogs_and_Cats/train/cat.10656.jpg',\n",
       " './Dogs_and_Cats/train/cat.10657.jpg',\n",
       " './Dogs_and_Cats/train/cat.10658.jpg',\n",
       " './Dogs_and_Cats/train/cat.10659.jpg',\n",
       " './Dogs_and_Cats/train/cat.1066.jpg',\n",
       " './Dogs_and_Cats/train/cat.10660.jpg',\n",
       " './Dogs_and_Cats/train/cat.10661.jpg',\n",
       " './Dogs_and_Cats/train/cat.10662.jpg',\n",
       " './Dogs_and_Cats/train/cat.10663.jpg',\n",
       " './Dogs_and_Cats/train/cat.10664.jpg',\n",
       " './Dogs_and_Cats/train/cat.10665.jpg',\n",
       " './Dogs_and_Cats/train/cat.10666.jpg',\n",
       " './Dogs_and_Cats/train/cat.10667.jpg',\n",
       " './Dogs_and_Cats/train/cat.10668.jpg',\n",
       " './Dogs_and_Cats/train/cat.10669.jpg',\n",
       " './Dogs_and_Cats/train/cat.1067.jpg',\n",
       " './Dogs_and_Cats/train/cat.10670.jpg',\n",
       " './Dogs_and_Cats/train/cat.10671.jpg',\n",
       " './Dogs_and_Cats/train/cat.10672.jpg',\n",
       " './Dogs_and_Cats/train/cat.10673.jpg',\n",
       " './Dogs_and_Cats/train/cat.10674.jpg',\n",
       " './Dogs_and_Cats/train/cat.10675.jpg',\n",
       " './Dogs_and_Cats/train/cat.10676.jpg',\n",
       " './Dogs_and_Cats/train/cat.10677.jpg',\n",
       " './Dogs_and_Cats/train/cat.10678.jpg',\n",
       " './Dogs_and_Cats/train/cat.10679.jpg',\n",
       " './Dogs_and_Cats/train/cat.1068.jpg',\n",
       " './Dogs_and_Cats/train/cat.10680.jpg',\n",
       " './Dogs_and_Cats/train/cat.10681.jpg',\n",
       " './Dogs_and_Cats/train/cat.10682.jpg',\n",
       " './Dogs_and_Cats/train/cat.10683.jpg',\n",
       " './Dogs_and_Cats/train/cat.10684.jpg',\n",
       " './Dogs_and_Cats/train/cat.10685.jpg',\n",
       " './Dogs_and_Cats/train/cat.10686.jpg',\n",
       " './Dogs_and_Cats/train/cat.10687.jpg',\n",
       " './Dogs_and_Cats/train/cat.10688.jpg',\n",
       " './Dogs_and_Cats/train/cat.10689.jpg',\n",
       " './Dogs_and_Cats/train/cat.1069.jpg',\n",
       " './Dogs_and_Cats/train/cat.10690.jpg',\n",
       " './Dogs_and_Cats/train/cat.10691.jpg',\n",
       " './Dogs_and_Cats/train/cat.10692.jpg',\n",
       " './Dogs_and_Cats/train/cat.10693.jpg',\n",
       " './Dogs_and_Cats/train/cat.10694.jpg',\n",
       " './Dogs_and_Cats/train/cat.10695.jpg',\n",
       " './Dogs_and_Cats/train/cat.10696.jpg',\n",
       " './Dogs_and_Cats/train/cat.10697.jpg',\n",
       " './Dogs_and_Cats/train/cat.10698.jpg',\n",
       " './Dogs_and_Cats/train/cat.10699.jpg',\n",
       " './Dogs_and_Cats/train/cat.107.jpg',\n",
       " './Dogs_and_Cats/train/cat.1070.jpg',\n",
       " './Dogs_and_Cats/train/cat.10700.jpg',\n",
       " './Dogs_and_Cats/train/cat.10701.jpg',\n",
       " './Dogs_and_Cats/train/cat.10702.jpg',\n",
       " './Dogs_and_Cats/train/cat.10703.jpg',\n",
       " './Dogs_and_Cats/train/cat.10704.jpg',\n",
       " './Dogs_and_Cats/train/cat.10705.jpg',\n",
       " './Dogs_and_Cats/train/cat.10706.jpg',\n",
       " './Dogs_and_Cats/train/cat.10707.jpg',\n",
       " './Dogs_and_Cats/train/cat.10708.jpg',\n",
       " './Dogs_and_Cats/train/cat.10709.jpg',\n",
       " './Dogs_and_Cats/train/cat.1071.jpg',\n",
       " './Dogs_and_Cats/train/cat.10710.jpg',\n",
       " './Dogs_and_Cats/train/cat.10711.jpg',\n",
       " './Dogs_and_Cats/train/cat.10712.jpg',\n",
       " './Dogs_and_Cats/train/cat.10713.jpg',\n",
       " './Dogs_and_Cats/train/cat.10714.jpg',\n",
       " './Dogs_and_Cats/train/cat.10715.jpg',\n",
       " './Dogs_and_Cats/train/cat.10716.jpg',\n",
       " './Dogs_and_Cats/train/cat.10717.jpg',\n",
       " './Dogs_and_Cats/train/cat.10718.jpg',\n",
       " './Dogs_and_Cats/train/cat.10719.jpg',\n",
       " './Dogs_and_Cats/train/cat.1072.jpg',\n",
       " './Dogs_and_Cats/train/cat.10720.jpg',\n",
       " './Dogs_and_Cats/train/cat.10721.jpg',\n",
       " './Dogs_and_Cats/train/cat.10722.jpg',\n",
       " './Dogs_and_Cats/train/cat.10723.jpg',\n",
       " './Dogs_and_Cats/train/cat.10724.jpg',\n",
       " './Dogs_and_Cats/train/cat.10725.jpg',\n",
       " './Dogs_and_Cats/train/cat.10726.jpg',\n",
       " './Dogs_and_Cats/train/cat.10727.jpg',\n",
       " './Dogs_and_Cats/train/cat.10728.jpg',\n",
       " './Dogs_and_Cats/train/cat.10729.jpg',\n",
       " './Dogs_and_Cats/train/cat.1073.jpg',\n",
       " './Dogs_and_Cats/train/cat.10730.jpg',\n",
       " './Dogs_and_Cats/train/cat.10731.jpg',\n",
       " './Dogs_and_Cats/train/cat.10732.jpg',\n",
       " './Dogs_and_Cats/train/cat.10733.jpg',\n",
       " './Dogs_and_Cats/train/cat.10734.jpg',\n",
       " './Dogs_and_Cats/train/cat.10735.jpg',\n",
       " './Dogs_and_Cats/train/cat.10736.jpg',\n",
       " './Dogs_and_Cats/train/cat.10737.jpg',\n",
       " './Dogs_and_Cats/train/cat.10738.jpg',\n",
       " './Dogs_and_Cats/train/cat.10739.jpg',\n",
       " './Dogs_and_Cats/train/cat.1074.jpg',\n",
       " './Dogs_and_Cats/train/cat.10740.jpg',\n",
       " './Dogs_and_Cats/train/cat.10741.jpg',\n",
       " './Dogs_and_Cats/train/cat.10742.jpg',\n",
       " './Dogs_and_Cats/train/cat.10743.jpg',\n",
       " './Dogs_and_Cats/train/cat.10744.jpg',\n",
       " './Dogs_and_Cats/train/cat.10745.jpg',\n",
       " './Dogs_and_Cats/train/cat.10746.jpg',\n",
       " './Dogs_and_Cats/train/cat.10747.jpg',\n",
       " './Dogs_and_Cats/train/cat.10748.jpg',\n",
       " './Dogs_and_Cats/train/cat.10749.jpg',\n",
       " './Dogs_and_Cats/train/cat.1075.jpg',\n",
       " './Dogs_and_Cats/train/cat.10750.jpg',\n",
       " './Dogs_and_Cats/train/cat.10751.jpg',\n",
       " './Dogs_and_Cats/train/cat.10752.jpg',\n",
       " './Dogs_and_Cats/train/cat.10753.jpg',\n",
       " './Dogs_and_Cats/train/cat.10754.jpg',\n",
       " './Dogs_and_Cats/train/cat.10755.jpg',\n",
       " './Dogs_and_Cats/train/cat.10756.jpg',\n",
       " './Dogs_and_Cats/train/cat.10757.jpg',\n",
       " './Dogs_and_Cats/train/cat.10758.jpg',\n",
       " './Dogs_and_Cats/train/cat.10759.jpg',\n",
       " './Dogs_and_Cats/train/cat.1076.jpg',\n",
       " './Dogs_and_Cats/train/cat.10760.jpg',\n",
       " './Dogs_and_Cats/train/cat.10761.jpg',\n",
       " './Dogs_and_Cats/train/cat.10762.jpg',\n",
       " './Dogs_and_Cats/train/cat.10763.jpg',\n",
       " './Dogs_and_Cats/train/cat.10764.jpg',\n",
       " './Dogs_and_Cats/train/cat.10765.jpg',\n",
       " './Dogs_and_Cats/train/cat.10766.jpg',\n",
       " './Dogs_and_Cats/train/cat.10767.jpg',\n",
       " './Dogs_and_Cats/train/cat.10768.jpg',\n",
       " './Dogs_and_Cats/train/cat.10769.jpg',\n",
       " './Dogs_and_Cats/train/cat.1077.jpg',\n",
       " './Dogs_and_Cats/train/cat.10770.jpg',\n",
       " './Dogs_and_Cats/train/cat.10771.jpg',\n",
       " './Dogs_and_Cats/train/cat.10772.jpg',\n",
       " './Dogs_and_Cats/train/cat.10773.jpg',\n",
       " './Dogs_and_Cats/train/cat.10774.jpg',\n",
       " './Dogs_and_Cats/train/cat.10775.jpg',\n",
       " './Dogs_and_Cats/train/cat.10776.jpg',\n",
       " './Dogs_and_Cats/train/cat.10777.jpg',\n",
       " './Dogs_and_Cats/train/cat.10778.jpg',\n",
       " './Dogs_and_Cats/train/cat.10779.jpg',\n",
       " './Dogs_and_Cats/train/cat.1078.jpg',\n",
       " './Dogs_and_Cats/train/cat.10780.jpg',\n",
       " './Dogs_and_Cats/train/cat.10781.jpg',\n",
       " './Dogs_and_Cats/train/cat.10782.jpg',\n",
       " './Dogs_and_Cats/train/cat.10783.jpg',\n",
       " './Dogs_and_Cats/train/cat.10784.jpg',\n",
       " './Dogs_and_Cats/train/cat.10785.jpg',\n",
       " './Dogs_and_Cats/train/cat.10786.jpg',\n",
       " './Dogs_and_Cats/train/cat.10787.jpg',\n",
       " './Dogs_and_Cats/train/cat.10788.jpg',\n",
       " './Dogs_and_Cats/train/cat.10789.jpg',\n",
       " './Dogs_and_Cats/train/cat.1079.jpg',\n",
       " './Dogs_and_Cats/train/cat.10790.jpg',\n",
       " './Dogs_and_Cats/train/cat.10791.jpg',\n",
       " './Dogs_and_Cats/train/cat.10792.jpg',\n",
       " './Dogs_and_Cats/train/cat.10793.jpg',\n",
       " './Dogs_and_Cats/train/cat.10794.jpg',\n",
       " './Dogs_and_Cats/train/cat.10795.jpg',\n",
       " './Dogs_and_Cats/train/cat.10796.jpg',\n",
       " './Dogs_and_Cats/train/cat.10797.jpg',\n",
       " './Dogs_and_Cats/train/cat.10798.jpg',\n",
       " './Dogs_and_Cats/train/cat.10799.jpg',\n",
       " './Dogs_and_Cats/train/cat.108.jpg',\n",
       " './Dogs_and_Cats/train/cat.1080.jpg',\n",
       " './Dogs_and_Cats/train/cat.10800.jpg',\n",
       " './Dogs_and_Cats/train/cat.10801.jpg',\n",
       " './Dogs_and_Cats/train/cat.10802.jpg',\n",
       " './Dogs_and_Cats/train/cat.10803.jpg',\n",
       " './Dogs_and_Cats/train/cat.10804.jpg',\n",
       " './Dogs_and_Cats/train/cat.10805.jpg',\n",
       " './Dogs_and_Cats/train/cat.10806.jpg',\n",
       " './Dogs_and_Cats/train/cat.10807.jpg',\n",
       " './Dogs_and_Cats/train/cat.10808.jpg',\n",
       " './Dogs_and_Cats/train/cat.10809.jpg',\n",
       " './Dogs_and_Cats/train/cat.1081.jpg',\n",
       " './Dogs_and_Cats/train/cat.10810.jpg',\n",
       " './Dogs_and_Cats/train/cat.10811.jpg',\n",
       " './Dogs_and_Cats/train/cat.10812.jpg',\n",
       " './Dogs_and_Cats/train/cat.10813.jpg',\n",
       " './Dogs_and_Cats/train/cat.10814.jpg',\n",
       " './Dogs_and_Cats/train/cat.10815.jpg',\n",
       " './Dogs_and_Cats/train/cat.10816.jpg',\n",
       " './Dogs_and_Cats/train/cat.10817.jpg',\n",
       " './Dogs_and_Cats/train/cat.10818.jpg',\n",
       " './Dogs_and_Cats/train/cat.10819.jpg',\n",
       " './Dogs_and_Cats/train/cat.1082.jpg',\n",
       " './Dogs_and_Cats/train/cat.10820.jpg',\n",
       " './Dogs_and_Cats/train/cat.10821.jpg',\n",
       " './Dogs_and_Cats/train/cat.10822.jpg',\n",
       " './Dogs_and_Cats/train/cat.10823.jpg',\n",
       " './Dogs_and_Cats/train/cat.10824.jpg',\n",
       " './Dogs_and_Cats/train/cat.10825.jpg',\n",
       " './Dogs_and_Cats/train/cat.10826.jpg',\n",
       " './Dogs_and_Cats/train/cat.10827.jpg',\n",
       " './Dogs_and_Cats/train/cat.10828.jpg',\n",
       " './Dogs_and_Cats/train/cat.10829.jpg',\n",
       " './Dogs_and_Cats/train/cat.1083.jpg',\n",
       " './Dogs_and_Cats/train/cat.10830.jpg',\n",
       " './Dogs_and_Cats/train/cat.10831.jpg',\n",
       " './Dogs_and_Cats/train/cat.10832.jpg',\n",
       " './Dogs_and_Cats/train/cat.10833.jpg',\n",
       " './Dogs_and_Cats/train/cat.10834.jpg',\n",
       " './Dogs_and_Cats/train/cat.10835.jpg',\n",
       " './Dogs_and_Cats/train/cat.10836.jpg',\n",
       " './Dogs_and_Cats/train/cat.10837.jpg',\n",
       " './Dogs_and_Cats/train/cat.10838.jpg',\n",
       " './Dogs_and_Cats/train/cat.10839.jpg',\n",
       " './Dogs_and_Cats/train/cat.1084.jpg',\n",
       " './Dogs_and_Cats/train/cat.10840.jpg',\n",
       " './Dogs_and_Cats/train/cat.10841.jpg',\n",
       " './Dogs_and_Cats/train/cat.10842.jpg',\n",
       " './Dogs_and_Cats/train/cat.10843.jpg',\n",
       " './Dogs_and_Cats/train/cat.10844.jpg',\n",
       " './Dogs_and_Cats/train/cat.10845.jpg',\n",
       " './Dogs_and_Cats/train/cat.10846.jpg',\n",
       " './Dogs_and_Cats/train/cat.10847.jpg',\n",
       " './Dogs_and_Cats/train/cat.10848.jpg',\n",
       " './Dogs_and_Cats/train/cat.10849.jpg',\n",
       " './Dogs_and_Cats/train/cat.1085.jpg',\n",
       " './Dogs_and_Cats/train/cat.10850.jpg',\n",
       " './Dogs_and_Cats/train/cat.10851.jpg',\n",
       " './Dogs_and_Cats/train/cat.10852.jpg',\n",
       " './Dogs_and_Cats/train/cat.10853.jpg',\n",
       " './Dogs_and_Cats/train/cat.10854.jpg',\n",
       " './Dogs_and_Cats/train/cat.10855.jpg',\n",
       " './Dogs_and_Cats/train/cat.10856.jpg',\n",
       " './Dogs_and_Cats/train/cat.10857.jpg',\n",
       " './Dogs_and_Cats/train/cat.10858.jpg',\n",
       " './Dogs_and_Cats/train/cat.10859.jpg',\n",
       " './Dogs_and_Cats/train/cat.1086.jpg',\n",
       " './Dogs_and_Cats/train/cat.10860.jpg',\n",
       " './Dogs_and_Cats/train/cat.10861.jpg',\n",
       " './Dogs_and_Cats/train/cat.10862.jpg',\n",
       " './Dogs_and_Cats/train/cat.10863.jpg',\n",
       " './Dogs_and_Cats/train/cat.10864.jpg',\n",
       " './Dogs_and_Cats/train/cat.10865.jpg',\n",
       " './Dogs_and_Cats/train/cat.10866.jpg',\n",
       " './Dogs_and_Cats/train/cat.10867.jpg',\n",
       " './Dogs_and_Cats/train/cat.10868.jpg',\n",
       " './Dogs_and_Cats/train/cat.10869.jpg',\n",
       " './Dogs_and_Cats/train/cat.1087.jpg',\n",
       " './Dogs_and_Cats/train/cat.10870.jpg',\n",
       " './Dogs_and_Cats/train/cat.10871.jpg',\n",
       " './Dogs_and_Cats/train/cat.10872.jpg',\n",
       " './Dogs_and_Cats/train/cat.10873.jpg',\n",
       " './Dogs_and_Cats/train/cat.10874.jpg',\n",
       " './Dogs_and_Cats/train/cat.10875.jpg',\n",
       " './Dogs_and_Cats/train/cat.10876.jpg',\n",
       " './Dogs_and_Cats/train/cat.10877.jpg',\n",
       " './Dogs_and_Cats/train/cat.10878.jpg',\n",
       " './Dogs_and_Cats/train/cat.10879.jpg',\n",
       " './Dogs_and_Cats/train/cat.1088.jpg',\n",
       " './Dogs_and_Cats/train/cat.10880.jpg',\n",
       " './Dogs_and_Cats/train/cat.10881.jpg',\n",
       " './Dogs_and_Cats/train/cat.10882.jpg',\n",
       " './Dogs_and_Cats/train/cat.10883.jpg',\n",
       " './Dogs_and_Cats/train/cat.10884.jpg',\n",
       " './Dogs_and_Cats/train/cat.10885.jpg',\n",
       " './Dogs_and_Cats/train/cat.10886.jpg',\n",
       " './Dogs_and_Cats/train/cat.10887.jpg',\n",
       " './Dogs_and_Cats/train/cat.10888.jpg',\n",
       " './Dogs_and_Cats/train/cat.10889.jpg',\n",
       " './Dogs_and_Cats/train/cat.1089.jpg',\n",
       " './Dogs_and_Cats/train/cat.10890.jpg',\n",
       " './Dogs_and_Cats/train/cat.10891.jpg',\n",
       " './Dogs_and_Cats/train/cat.10892.jpg',\n",
       " './Dogs_and_Cats/train/cat.10893.jpg',\n",
       " './Dogs_and_Cats/train/cat.10894.jpg',\n",
       " './Dogs_and_Cats/train/cat.10895.jpg',\n",
       " './Dogs_and_Cats/train/cat.10896.jpg',\n",
       " './Dogs_and_Cats/train/cat.10897.jpg',\n",
       " ...]"
      ]
     },
     "execution_count": 100,
     "metadata": {},
     "output_type": "execute_result"
    }
   ],
   "source": [
    "train_images"
   ]
  },
  {
   "cell_type": "code",
   "execution_count": 101,
   "metadata": {},
   "outputs": [
    {
     "data": {
      "text/plain": [
       "25000"
      ]
     },
     "execution_count": 101,
     "metadata": {},
     "output_type": "execute_result"
    }
   ],
   "source": [
    "len(train_images)"
   ]
  },
  {
   "cell_type": "code",
   "execution_count": 102,
   "metadata": {},
   "outputs": [
    {
     "data": {
      "text/plain": [
       "'./Dogs_and_Cats/train/cat.10898.jpg'"
      ]
     },
     "execution_count": 102,
     "metadata": {},
     "output_type": "execute_result"
    }
   ],
   "source": [
    "train_images[1000]"
   ]
  },
  {
   "cell_type": "markdown",
   "metadata": {},
   "source": [
    "### リストの内包表記"
   ]
  },
  {
   "cell_type": "code",
   "execution_count": 103,
   "metadata": {},
   "outputs": [],
   "source": [
    "train_dogs =   [TRAIN_DIR+i for i in os.listdir(TRAIN_DIR) if 'dog' in i]"
   ]
  },
  {
   "cell_type": "code",
   "execution_count": 104,
   "metadata": {},
   "outputs": [],
   "source": [
    "train_cats =   [TRAIN_DIR+i for i in os.listdir(TRAIN_DIR) if 'cat' in i]"
   ]
  },
  {
   "cell_type": "code",
   "execution_count": 105,
   "metadata": {},
   "outputs": [
    {
     "data": {
      "text/plain": [
       "12500"
      ]
     },
     "execution_count": 105,
     "metadata": {},
     "output_type": "execute_result"
    }
   ],
   "source": [
    "len(train_dogs)"
   ]
  },
  {
   "cell_type": "code",
   "execution_count": 106,
   "metadata": {},
   "outputs": [
    {
     "data": {
      "text/plain": [
       "12500"
      ]
     },
     "execution_count": 106,
     "metadata": {},
     "output_type": "execute_result"
    }
   ],
   "source": [
    "len(train_cats)"
   ]
  },
  {
   "cell_type": "code",
   "execution_count": 107,
   "metadata": {},
   "outputs": [],
   "source": [
    "test_images =  [TEST_DIR+i for i in os.listdir(TEST_DIR)]"
   ]
  },
  {
   "cell_type": "code",
   "execution_count": 108,
   "metadata": {},
   "outputs": [
    {
     "data": {
      "text/plain": [
       "12500"
      ]
     },
     "execution_count": 108,
     "metadata": {},
     "output_type": "execute_result"
    }
   ],
   "source": [
    "len(test_images)"
   ]
  },
  {
   "cell_type": "markdown",
   "metadata": {},
   "source": [
    "### リストのスライス処理"
   ]
  },
  {
   "cell_type": "code",
   "execution_count": 109,
   "metadata": {},
   "outputs": [],
   "source": [
    "train_images = train_dogs[:1000] + train_cats[:1000]"
   ]
  },
  {
   "cell_type": "code",
   "execution_count": 110,
   "metadata": {},
   "outputs": [
    {
     "data": {
      "text/plain": [
       "2000"
      ]
     },
     "execution_count": 110,
     "metadata": {},
     "output_type": "execute_result"
    }
   ],
   "source": [
    "len(train_images)"
   ]
  },
  {
   "cell_type": "code",
   "execution_count": 111,
   "metadata": {},
   "outputs": [],
   "source": [
    "random.shuffle(train_images)"
   ]
  },
  {
   "cell_type": "code",
   "execution_count": 112,
   "metadata": {},
   "outputs": [],
   "source": [
    "test_images =  test_images[:25]"
   ]
  },
  {
   "cell_type": "code",
   "execution_count": 113,
   "metadata": {},
   "outputs": [
    {
     "data": {
      "text/plain": [
       "25"
      ]
     },
     "execution_count": 113,
     "metadata": {},
     "output_type": "execute_result"
    }
   ],
   "source": [
    "len(test_images)"
   ]
  },
  {
   "cell_type": "markdown",
   "metadata": {},
   "source": [
    "### 画像ファイルを多次元配列に変換する"
   ]
  },
  {
   "cell_type": "code",
   "execution_count": 114,
   "metadata": {},
   "outputs": [],
   "source": [
    "def read_image(file_path):\n",
    "    img = cv2.imread(file_path, cv2.IMREAD_COLOR)\n",
    "    return cv2.resize(img, (ROWS, COLS), interpolation=cv2.INTER_CUBIC)"
   ]
  },
  {
   "cell_type": "code",
   "execution_count": 115,
   "metadata": {},
   "outputs": [],
   "source": [
    "def prep_data(images):\n",
    "    count = len(images)\n",
    "    data = np.ndarray((count, CHANNELS, ROWS, COLS), dtype=np.uint8)\n",
    "    \n",
    "    for i, image_file in enumerate(images):\n",
    "        image = read_image(image_file)\n",
    "        data[i] = image.T #transpose mxn > nxm\n",
    "        if i%250 == 0: print('Processed {} of {}'.format(i, count))\n",
    "            \n",
    "    return data\n",
    "        "
   ]
  },
  {
   "cell_type": "code",
   "execution_count": 116,
   "metadata": {
    "scrolled": true
   },
   "outputs": [
    {
     "name": "stdout",
     "output_type": "stream",
     "text": [
      "Processed 0 of 2000\n",
      "Processed 250 of 2000\n",
      "Processed 500 of 2000\n",
      "Processed 750 of 2000\n",
      "Processed 1000 of 2000\n",
      "Processed 1250 of 2000\n",
      "Processed 1500 of 2000\n",
      "Processed 1750 of 2000\n",
      "Processed 0 of 25\n"
     ]
    }
   ],
   "source": [
    "train = prep_data(train_images)\n",
    "test = prep_data(test_images)"
   ]
  },
  {
   "cell_type": "code",
   "execution_count": 117,
   "metadata": {},
   "outputs": [
    {
     "data": {
      "text/plain": [
       "(2000, 3, 64, 64)"
      ]
     },
     "execution_count": 117,
     "metadata": {},
     "output_type": "execute_result"
    }
   ],
   "source": [
    "train.shape"
   ]
  },
  {
   "cell_type": "code",
   "execution_count": 118,
   "metadata": {},
   "outputs": [
    {
     "data": {
      "text/plain": [
       "(25, 3, 64, 64)"
      ]
     },
     "execution_count": 118,
     "metadata": {},
     "output_type": "execute_result"
    }
   ],
   "source": [
    "test.shape"
   ]
  },
  {
   "cell_type": "markdown",
   "metadata": {},
   "source": [
    "### ラベル一覧をリスト型変数に格納しよう"
   ]
  },
  {
   "cell_type": "code",
   "execution_count": 119,
   "metadata": {},
   "outputs": [],
   "source": [
    "labels = []\n",
    "for i in train_images:\n",
    "    if 'dog.' in i:\n",
    "        labels.append(1)\n",
    "    else:\n",
    "        labels.append(0)"
   ]
  },
  {
   "cell_type": "code",
   "execution_count": 120,
   "metadata": {},
   "outputs": [
    {
     "data": {
      "text/plain": [
       "[0, 1, 1, 1, 0, 1, 0, 1, 0, 1]"
      ]
     },
     "execution_count": 120,
     "metadata": {},
     "output_type": "execute_result"
    }
   ],
   "source": [
    "labels[0:10]"
   ]
  },
  {
   "cell_type": "code",
   "execution_count": 121,
   "metadata": {},
   "outputs": [
    {
     "data": {
      "text/plain": [
       "['./Dogs_and_Cats/train/cat.10125.jpg',\n",
       " './Dogs_and_Cats/train/dog.1063.jpg',\n",
       " './Dogs_and_Cats/train/dog.10133.jpg',\n",
       " './Dogs_and_Cats/train/dog.10431.jpg',\n",
       " './Dogs_and_Cats/train/cat.10823.jpg',\n",
       " './Dogs_and_Cats/train/dog.10636.jpg',\n",
       " './Dogs_and_Cats/train/cat.1042.jpg',\n",
       " './Dogs_and_Cats/train/dog.100.jpg',\n",
       " './Dogs_and_Cats/train/cat.10059.jpg',\n",
       " './Dogs_and_Cats/train/dog.10502.jpg']"
      ]
     },
     "execution_count": 121,
     "metadata": {},
     "output_type": "execute_result"
    }
   ],
   "source": [
    "train_images[0:10]"
   ]
  },
  {
   "cell_type": "code",
   "execution_count": 122,
   "metadata": {},
   "outputs": [
    {
     "data": {
      "text/plain": [
       "Text(0.5, 1.0, 'Cats and Dogs')"
      ]
     },
     "execution_count": 122,
     "metadata": {},
     "output_type": "execute_result"
    },
    {
     "data": {
      "image/png": "[encoded data removed]",
      "text/plain": [
       "<Figure size 432x288 with 1 Axes>"
      ]
     },
     "metadata": {
      "needs_background": "light"
     },
     "output_type": "display_data"
    }
   ],
   "source": [
    "sns.countplot(labels)\n",
    "plt.title('Cats and Dogs')"
   ]
  },
  {
   "cell_type": "markdown",
   "metadata": {},
   "source": [
    "### 画像データの確認"
   ]
  },
  {
   "cell_type": "code",
   "execution_count": 123,
   "metadata": {},
   "outputs": [],
   "source": [
    "def show_cats_and_dogs(idx):\n",
    "    cat = read_image(train_cats[idx])\n",
    "    dog = read_image(train_dogs[idx])\n",
    "    pair = np.concatenate((cat, dog), axis=1)\n",
    "    plt.figure(figsize=(10,5))\n",
    "    plt.imshow(pair)\n",
    "    plt.show()"
   ]
  },
  {
   "cell_type": "code",
   "execution_count": 124,
   "metadata": {},
   "outputs": [
    {
     "data": {
      "image/png": "[encoded data removed]",
      "text/plain": [
       "<Figure size 720x360 with 1 Axes>"
      ]
     },
     "metadata": {
      "needs_background": "light"
     },
     "output_type": "display_data"
    },
    {
     "data": {
      "image/png": "[encoded data removed]",
      "text/plain": [
       "<Figure size 720x360 with 1 Axes>"
      ]
     },
     "metadata": {
      "needs_background": "light"
     },
     "output_type": "display_data"
    },
    {
     "data": {
      "image/png": "[encoded data removed]",
      "text/plain": [
       "<Figure size 720x360 with 1 Axes>"
      ]
     },
     "metadata": {
      "needs_background": "light"
     },
     "output_type": "display_data"
    },
    {
     "data": {
      "image/png": "[encoded data removed]",
      "text/plain": [
       "<Figure size 720x360 with 1 Axes>"
      ]
     },
     "metadata": {
      "needs_background": "light"
     },
     "output_type": "display_data"
    },
    {
     "data": {
      "image/png": "[encoded data removed]",
      "text/plain": [
       "<Figure size 720x360 with 1 Axes>"
      ]
     },
     "metadata": {
      "needs_background": "light"
     },
     "output_type": "display_data"
    }
   ],
   "source": [
    "for idx in range(10,15):\n",
    "    show_cats_and_dogs(idx)"
   ]
  },
  {
   "cell_type": "markdown",
   "metadata": {},
   "source": [
    "### ピクセル値を平均して画像を生成する"
   ]
  },
  {
   "cell_type": "code",
   "execution_count": 125,
   "metadata": {},
   "outputs": [
    {
     "data": {
      "text/plain": [
       "Text(0.5, 1.0, 'Your Average Dog')"
      ]
     },
     "execution_count": 125,
     "metadata": {},
     "output_type": "execute_result"
    },
    {
     "data": {
      "image/png": "[encoded data removed]",
      "text/plain": [
       "<Figure size 432x288 with 1 Axes>"
      ]
     },
     "metadata": {
      "needs_background": "light"
     },
     "output_type": "display_data"
    }
   ],
   "source": [
    "dog_avg = np.array([dog[0].T for i, dog in enumerate(train) if labels[i]==1]).mean(axis=0)\n",
    "plt.imshow(dog_avg)\n",
    "plt.title('Your Average Dog')\n"
   ]
  },
  {
   "cell_type": "code",
   "execution_count": 126,
   "metadata": {},
   "outputs": [
    {
     "data": {
      "text/plain": [
       "Text(0.5, 1.0, 'Your Average Cat')"
      ]
     },
     "execution_count": 126,
     "metadata": {},
     "output_type": "execute_result"
    },
    {
     "data": {
      "image/png": "[encoded data removed]",
      "text/plain": [
       "<Figure size 432x288 with 1 Axes>"
      ]
     },
     "metadata": {
      "needs_background": "light"
     },
     "output_type": "display_data"
    }
   ],
   "source": [
    "cat_avg = np.array([cat[0].T for i, cat in enumerate(train) if labels[i]==0]).mean(axis=0)\n",
    "plt.imshow(cat_avg)\n",
    "plt.title('Your Average Cat')"
   ]
  },
  {
   "cell_type": "markdown",
   "metadata": {},
   "source": [
    "### CatdogNet-16 を定義しよう"
   ]
  },
  {
   "cell_type": "code",
   "execution_count": 127,
   "metadata": {},
   "outputs": [],
   "source": [
    "from keras.models import Sequential\n",
    "from keras.layers import Input, Dropout, Flatten, Conv2D, MaxPooling2D, Dense, Activation\n",
    "from keras.optimizers import RMSprop\n",
    "from keras.callbacks import ModelCheckpoint, Callback, EarlyStopping\n",
    "from keras.utils import np_utils"
   ]
  },
  {
   "cell_type": "code",
   "execution_count": 128,
   "metadata": {},
   "outputs": [],
   "source": [
    "optimizer = RMSprop(lr=1e-4)\n",
    "objective = 'binary_crossentropy'\n",
    "\n",
    "def catdog():\n",
    "    model = Sequential()\n",
    "    \n",
    "    model.add(Conv2D(32, (3, 3), padding='same', input_shape=(3, ROWS, COLS), activation='relu'))\n",
    "    model.add(Conv2D(32, (3, 3), padding='same', activation='relu'))\n",
    "    model.add(MaxPooling2D(data_format=\"channels_first\", pool_size=(2, 2)))\n",
    "    \n",
    "    model.add(Conv2D(64, (3, 3), padding='same', activation='relu'))\n",
    "    model.add(Conv2D(64, (3, 3), padding='same', activation='relu'))\n",
    "    model.add(MaxPooling2D(data_format=\"channels_first\", pool_size=(2, 2)))\n",
    "    \n",
    "    model.add(Conv2D(128, (3, 3), padding='same', activation='relu'))\n",
    "    model.add(Conv2D(128, (3, 3), padding='same', activation='relu'))\n",
    "    model.add(MaxPooling2D(data_format=\"channels_first\", pool_size=(2, 2)))\n",
    "    \n",
    "    model.add(Conv2D(256, (3, 3), padding='same', activation='relu'))\n",
    "    model.add(Conv2D(256, (3, 3), padding='same', activation='relu'))\n",
    "#     model.add(Convolution2D(256, 3, 3, border_mode='same', activation='relu'))\n",
    "    model.add(MaxPooling2D(data_format=\"channels_first\", pool_size=(2, 2)))\n",
    "    \n",
    "    model.add(Flatten())\n",
    "    model.add(Dense(256, activation='relu'))\n",
    "    model.add(Dropout(0.5))\n",
    "    \n",
    "    model.add(Dense(256, activation='relu'))\n",
    "    model.add(Dropout(0.5))\n",
    "    \n",
    "    model.add(Dense(1))\n",
    "    model.add(Activation('sigmoid'))\n",
    "\n",
    "    model.compile(loss=objective, optimizer=optimizer, metrics=['accuracy'])\n",
    "    return model\n",
    "\n",
    "model = catdog()\n",
    "    \n"
   ]
  },
  {
   "cell_type": "markdown",
   "metadata": {},
   "source": [
    "### トレーニングを実行しよう"
   ]
  },
  {
   "cell_type": "code",
   "execution_count": 129,
   "metadata": {},
   "outputs": [],
   "source": [
    "nb_epoch = 10\n",
    "batch_size = 16\n",
    "\n",
    "class LossHistory(Callback):\n",
    "    def on_train_begin(self,logs={}):\n",
    "        self.losses=[]\n",
    "        self.val_losses=[]\n",
    "        \n",
    "    def on_epoch_end(self,batch,logs={}):\n",
    "        self.losses.append(logs.get('loss'))\n",
    "        self.val_losses.append(logs.get('val_loss'))\n",
    "\n",
    "early_stopping=EarlyStopping(monitor='val_loss',patience=3,verbose=1,mode='auto')\n",
    "\n",
    "def run_catdog():\n",
    "\n",
    "    history=LossHistory()\n",
    "    model.fit(train, labels, batch_size=batch_size, epochs=nb_epoch,\n",
    "              validation_split=0.25, verbose=0, shuffle=True,callbacks=[history, early_stopping])\n",
    "    \n",
    "\n",
    "    predictions = model.predict(test, verbose=0)#推定\n",
    "    return predictions, history\n",
    "\n",
    "predictions, history = run_catdog()\n",
    "# タプルで受け取る\n"
   ]
  },
  {
   "cell_type": "code",
   "execution_count": 130,
   "metadata": {},
   "outputs": [
    {
     "data": {
      "image/png": "[encoded data removed]",
      "text/plain": [
       "<Figure size 432x288 with 1 Axes>"
      ]
     },
     "metadata": {
      "needs_background": "light"
     },
     "output_type": "display_data"
    }
   ],
   "source": [
    "#ロスをプロットしよう\n",
    "loss=history.losses\n",
    "val_loss=history.val_losses\n",
    "\n",
    "plt.xlabel('Epochs')\n",
    "plt.ylabel('Loss')\n",
    "plt.plot(loss, 'blue', label='Trainging Loss')\n",
    "plt.plot(val_loss,'green',label='Validation Loss')\n",
    "plt.xticks(range(0,nb_epoch)[0::2])\n",
    "plt.legend()\n",
    "plt.show()"
   ]
  },
  {
   "cell_type": "code",
   "execution_count": 135,
   "metadata": {},
   "outputs": [
    {
     "name": "stdout",
     "output_type": "stream",
     "text": [
      "[[0.15960848]\n",
      " [0.12708858]\n",
      " [0.34299296]\n",
      " [0.6630004 ]\n",
      " [0.77179736]\n",
      " [0.34064752]\n",
      " [0.20504594]\n",
      " [0.76604533]\n",
      " [0.4824021 ]\n",
      " [0.17506784]\n",
      " [0.54963934]\n",
      " [0.31203124]\n",
      " [0.37907833]\n",
      " [0.7685313 ]\n",
      " [0.82176363]\n",
      " [0.7946524 ]\n",
      " [0.6428749 ]\n",
      " [0.20485315]\n",
      " [0.6777603 ]\n",
      " [0.3070383 ]\n",
      " [0.47018683]\n",
      " [0.26929358]\n",
      " [0.54790705]\n",
      " [0.6790844 ]\n",
      " [0.63492167]]\n"
     ]
    },
    {
     "data": {
      "text/plain": [
       "25"
      ]
     },
     "execution_count": 135,
     "metadata": {},
     "output_type": "execute_result"
    }
   ],
   "source": [
    "test_pred=model.predict(test, verbose=0)#推定\n",
    "print(test_pred)\n",
    "len(test_pred)"
   ]
  },
  {
   "cell_type": "code",
   "execution_count": null,
   "metadata": {},
   "outputs": [],
   "source": []
  },
  {
   "cell_type": "code",
   "execution_count": null,
   "metadata": {},
   "outputs": [],
   "source": []
  },
  {
   "cell_type": "code",
   "execution_count": null,
   "metadata": {},
   "outputs": [],
   "source": [
    "#pred=model.predict(test_pred)"
   ]
  },
  {
   "cell_type": "code",
   "execution_count": null,
   "metadata": {},
   "outputs": [],
   "source": [
    "pred=model.predict_proba(test_pred)\n",
    "print(pred)"
   ]
  },
  {
   "cell_type": "code",
   "execution_count": null,
   "metadata": {},
   "outputs": [],
   "source": [
    "Output['label']=pred[:,1]\n",
    "Output[0:10]"
   ]
  },
  {
   "cell_type": "code",
   "execution_count": null,
   "metadata": {},
   "outputs": [],
   "source": []
  },
  {
   "cell_type": "code",
   "execution_count": null,
   "metadata": {},
   "outputs": [],
   "source": []
  },
  {
   "cell_type": "code",
   "execution_count": null,
   "metadata": {},
   "outputs": [],
   "source": []
  },
  {
   "cell_type": "code",
   "execution_count": null,
   "metadata": {},
   "outputs": [],
   "source": []
  }
 ],
 "metadata": {
  "kernelspec": {
   "display_name": "Python 3",
   "language": "python",
   "name": "python3"
  },
  "language_info": {
   "codemirror_mode": {
    "name": "ipython",
    "version": 3
   },
   "file_extension": ".py",
   "mimetype": "text/x-python",
   "name": "python",
   "nbconvert_exporter": "python",
   "pygments_lexer": "ipython3",
   "version": "3.7.3"
  }
 },
 "nbformat": 4,
 "nbformat_minor": 2
}
